{
  "cells": [
    {
      "cell_type": "markdown",
      "source": [
        "# IMPORTING LIBRARIES AND PACKAGES"
      ],
      "metadata": {
        "id": "2Ptj8rA9hCyN"
      },
      "id": "2Ptj8rA9hCyN"
    },
    {
      "cell_type": "code",
      "execution_count": 33,
      "id": "6554f893-a3c2-4b22-884d-8cdf25ba5e6a",
      "metadata": {
        "colab": {
          "base_uri": "https://localhost:8080/"
        },
        "id": "6554f893-a3c2-4b22-884d-8cdf25ba5e6a",
        "outputId": "9ae2b912-af75-4291-9d66-c29a21bf61b2"
      },
      "outputs": [
        {
          "output_type": "stream",
          "name": "stdout",
          "text": [
            "Drive already mounted at /content/drive; to attempt to forcibly remount, call drive.mount(\"/content/drive\", force_remount=True).\n"
          ]
        }
      ],
      "source": [
        "import numpy as np\n",
        "import pandas as pd\n",
        "import copy\n",
        "import seaborn as sns\n",
        "import matplotlib.pyplot as plt\n",
        "from sklearn.ensemble import RandomForestClassifier\n",
        "import pydotplus\n",
        "from sklearn.model_selection import train_test_split\n",
        "from sklearn.tree import DecisionTreeClassifier\n",
        "from sklearn import metrics\n",
        "from IPython.display import SVG\n",
        "from sklearn.tree import export_graphviz\n",
        "from io import StringIO\n",
        "from sklearn.metrics import accuracy_score\n",
        "from sklearn.preprocessing import LabelEncoder\n",
        "from collections import Counter\n",
        "from google.colab import drive\n",
        "\n",
        "\n",
        "\n",
        "drive.mount('/content/drive')"
      ]
    },
    {
      "cell_type": "markdown",
      "source": [
        "# LOADING DATA\n"
      ],
      "metadata": {
        "id": "T_JYlE8f1oQo"
      },
      "id": "T_JYlE8f1oQo"
    },
    {
      "cell_type": "code",
      "source": [
        "df = pd.read_csv(\"drive/MyDrive/ML_project/census_data.csv\", header=None,\n",
        "                 names=['age',\t'workclass',\t'fnlwgt',\t'education', 'education_num',\t'marital_status',\t'occupation',\n",
        "                        'relationship',\t'race',\t'sex',\t'capital_gain',\t'capital_loss',\t'hours_per_week',\t'native_country',\t'class'])\n",
        "tf = pd.read_csv(\"drive/MyDrive/ML_project/census_test.csv\", header=None,\n",
        "                 names=['age',\t'workclass',\t'fnlwgt',\t'education', 'education_num',\t'marital_status',\t'occupation',\n",
        "                        'relationship',\t'race',\t'sex',\t'capital_gain',\t'capital_loss',\t'hours_per_week',\t'native_country',\t'class'])"
      ],
      "metadata": {
        "id": "esEOL_x6hAMl"
      },
      "id": "esEOL_x6hAMl",
      "execution_count": 5,
      "outputs": []
    },
    {
      "cell_type": "code",
      "source": [
        "df.head(3)"
      ],
      "metadata": {
        "colab": {
          "base_uri": "https://localhost:8080/",
          "height": 143
        },
        "id": "w4GjQEVRi8v0",
        "outputId": "aa49da26-e230-48c1-e2d8-1a9bc18fe03a"
      },
      "id": "w4GjQEVRi8v0",
      "execution_count": 6,
      "outputs": [
        {
          "output_type": "execute_result",
          "data": {
            "text/plain": [
              "   age          workclass  fnlwgt   education  education_num  \\\n",
              "0   39          State-gov   77516   Bachelors             13   \n",
              "1   50   Self-emp-not-inc   83311   Bachelors             13   \n",
              "2   38            Private  215646     HS-grad              9   \n",
              "\n",
              "        marital_status          occupation    relationship    race    sex  \\\n",
              "0        Never-married        Adm-clerical   Not-in-family   White   Male   \n",
              "1   Married-civ-spouse     Exec-managerial         Husband   White   Male   \n",
              "2             Divorced   Handlers-cleaners   Not-in-family   White   Male   \n",
              "\n",
              "   capital_gain  capital_loss  hours_per_week  native_country   class  \n",
              "0          2174             0              40   United-States   <=50K  \n",
              "1             0             0              13   United-States   <=50K  \n",
              "2             0             0              40   United-States   <=50K  "
            ],
            "text/html": [
              "\n",
              "  <div id=\"df-3dff7a2a-c60e-4542-b6af-91610ed68ca9\">\n",
              "    <div class=\"colab-df-container\">\n",
              "      <div>\n",
              "<style scoped>\n",
              "    .dataframe tbody tr th:only-of-type {\n",
              "        vertical-align: middle;\n",
              "    }\n",
              "\n",
              "    .dataframe tbody tr th {\n",
              "        vertical-align: top;\n",
              "    }\n",
              "\n",
              "    .dataframe thead th {\n",
              "        text-align: right;\n",
              "    }\n",
              "</style>\n",
              "<table border=\"1\" class=\"dataframe\">\n",
              "  <thead>\n",
              "    <tr style=\"text-align: right;\">\n",
              "      <th></th>\n",
              "      <th>age</th>\n",
              "      <th>workclass</th>\n",
              "      <th>fnlwgt</th>\n",
              "      <th>education</th>\n",
              "      <th>education_num</th>\n",
              "      <th>marital_status</th>\n",
              "      <th>occupation</th>\n",
              "      <th>relationship</th>\n",
              "      <th>race</th>\n",
              "      <th>sex</th>\n",
              "      <th>capital_gain</th>\n",
              "      <th>capital_loss</th>\n",
              "      <th>hours_per_week</th>\n",
              "      <th>native_country</th>\n",
              "      <th>class</th>\n",
              "    </tr>\n",
              "  </thead>\n",
              "  <tbody>\n",
              "    <tr>\n",
              "      <th>0</th>\n",
              "      <td>39</td>\n",
              "      <td>State-gov</td>\n",
              "      <td>77516</td>\n",
              "      <td>Bachelors</td>\n",
              "      <td>13</td>\n",
              "      <td>Never-married</td>\n",
              "      <td>Adm-clerical</td>\n",
              "      <td>Not-in-family</td>\n",
              "      <td>White</td>\n",
              "      <td>Male</td>\n",
              "      <td>2174</td>\n",
              "      <td>0</td>\n",
              "      <td>40</td>\n",
              "      <td>United-States</td>\n",
              "      <td>&lt;=50K</td>\n",
              "    </tr>\n",
              "    <tr>\n",
              "      <th>1</th>\n",
              "      <td>50</td>\n",
              "      <td>Self-emp-not-inc</td>\n",
              "      <td>83311</td>\n",
              "      <td>Bachelors</td>\n",
              "      <td>13</td>\n",
              "      <td>Married-civ-spouse</td>\n",
              "      <td>Exec-managerial</td>\n",
              "      <td>Husband</td>\n",
              "      <td>White</td>\n",
              "      <td>Male</td>\n",
              "      <td>0</td>\n",
              "      <td>0</td>\n",
              "      <td>13</td>\n",
              "      <td>United-States</td>\n",
              "      <td>&lt;=50K</td>\n",
              "    </tr>\n",
              "    <tr>\n",
              "      <th>2</th>\n",
              "      <td>38</td>\n",
              "      <td>Private</td>\n",
              "      <td>215646</td>\n",
              "      <td>HS-grad</td>\n",
              "      <td>9</td>\n",
              "      <td>Divorced</td>\n",
              "      <td>Handlers-cleaners</td>\n",
              "      <td>Not-in-family</td>\n",
              "      <td>White</td>\n",
              "      <td>Male</td>\n",
              "      <td>0</td>\n",
              "      <td>0</td>\n",
              "      <td>40</td>\n",
              "      <td>United-States</td>\n",
              "      <td>&lt;=50K</td>\n",
              "    </tr>\n",
              "  </tbody>\n",
              "</table>\n",
              "</div>\n",
              "      <button class=\"colab-df-convert\" onclick=\"convertToInteractive('df-3dff7a2a-c60e-4542-b6af-91610ed68ca9')\"\n",
              "              title=\"Convert this dataframe to an interactive table.\"\n",
              "              style=\"display:none;\">\n",
              "        \n",
              "  <svg xmlns=\"http://www.w3.org/2000/svg\" height=\"24px\"viewBox=\"0 0 24 24\"\n",
              "       width=\"24px\">\n",
              "    <path d=\"M0 0h24v24H0V0z\" fill=\"none\"/>\n",
              "    <path d=\"M18.56 5.44l.94 2.06.94-2.06 2.06-.94-2.06-.94-.94-2.06-.94 2.06-2.06.94zm-11 1L8.5 8.5l.94-2.06 2.06-.94-2.06-.94L8.5 2.5l-.94 2.06-2.06.94zm10 10l.94 2.06.94-2.06 2.06-.94-2.06-.94-.94-2.06-.94 2.06-2.06.94z\"/><path d=\"M17.41 7.96l-1.37-1.37c-.4-.4-.92-.59-1.43-.59-.52 0-1.04.2-1.43.59L10.3 9.45l-7.72 7.72c-.78.78-.78 2.05 0 2.83L4 21.41c.39.39.9.59 1.41.59.51 0 1.02-.2 1.41-.59l7.78-7.78 2.81-2.81c.8-.78.8-2.07 0-2.86zM5.41 20L4 18.59l7.72-7.72 1.47 1.35L5.41 20z\"/>\n",
              "  </svg>\n",
              "      </button>\n",
              "      \n",
              "  <style>\n",
              "    .colab-df-container {\n",
              "      display:flex;\n",
              "      flex-wrap:wrap;\n",
              "      gap: 12px;\n",
              "    }\n",
              "\n",
              "    .colab-df-convert {\n",
              "      background-color: #E8F0FE;\n",
              "      border: none;\n",
              "      border-radius: 50%;\n",
              "      cursor: pointer;\n",
              "      display: none;\n",
              "      fill: #1967D2;\n",
              "      height: 32px;\n",
              "      padding: 0 0 0 0;\n",
              "      width: 32px;\n",
              "    }\n",
              "\n",
              "    .colab-df-convert:hover {\n",
              "      background-color: #E2EBFA;\n",
              "      box-shadow: 0px 1px 2px rgba(60, 64, 67, 0.3), 0px 1px 3px 1px rgba(60, 64, 67, 0.15);\n",
              "      fill: #174EA6;\n",
              "    }\n",
              "\n",
              "    [theme=dark] .colab-df-convert {\n",
              "      background-color: #3B4455;\n",
              "      fill: #D2E3FC;\n",
              "    }\n",
              "\n",
              "    [theme=dark] .colab-df-convert:hover {\n",
              "      background-color: #434B5C;\n",
              "      box-shadow: 0px 1px 3px 1px rgba(0, 0, 0, 0.15);\n",
              "      filter: drop-shadow(0px 1px 2px rgba(0, 0, 0, 0.3));\n",
              "      fill: #FFFFFF;\n",
              "    }\n",
              "  </style>\n",
              "\n",
              "      <script>\n",
              "        const buttonEl =\n",
              "          document.querySelector('#df-3dff7a2a-c60e-4542-b6af-91610ed68ca9 button.colab-df-convert');\n",
              "        buttonEl.style.display =\n",
              "          google.colab.kernel.accessAllowed ? 'block' : 'none';\n",
              "\n",
              "        async function convertToInteractive(key) {\n",
              "          const element = document.querySelector('#df-3dff7a2a-c60e-4542-b6af-91610ed68ca9');\n",
              "          const dataTable =\n",
              "            await google.colab.kernel.invokeFunction('convertToInteractive',\n",
              "                                                     [key], {});\n",
              "          if (!dataTable) return;\n",
              "\n",
              "          const docLinkHtml = 'Like what you see? Visit the ' +\n",
              "            '<a target=\"_blank\" href=https://colab.research.google.com/notebooks/data_table.ipynb>data table notebook</a>'\n",
              "            + ' to learn more about interactive tables.';\n",
              "          element.innerHTML = '';\n",
              "          dataTable['output_type'] = 'display_data';\n",
              "          await google.colab.output.renderOutput(dataTable, element);\n",
              "          const docLink = document.createElement('div');\n",
              "          docLink.innerHTML = docLinkHtml;\n",
              "          element.appendChild(docLink);\n",
              "        }\n",
              "      </script>\n",
              "    </div>\n",
              "  </div>\n",
              "  "
            ]
          },
          "metadata": {},
          "execution_count": 6
        }
      ]
    },
    {
      "cell_type": "code",
      "source": [
        "tf.head(3)"
      ],
      "metadata": {
        "id": "3822FSPWi9Ri",
        "colab": {
          "base_uri": "https://localhost:8080/",
          "height": 143
        },
        "outputId": "310806b3-13a4-4db2-f05c-13b265c72d07"
      },
      "id": "3822FSPWi9Ri",
      "execution_count": 7,
      "outputs": [
        {
          "output_type": "execute_result",
          "data": {
            "text/plain": [
              "   age   workclass  fnlwgt    education  education_num       marital_status  \\\n",
              "0   25     Private  226802         11th              7        Never-married   \n",
              "1   38     Private   89814      HS-grad              9   Married-civ-spouse   \n",
              "2   28   Local-gov  336951   Assoc-acdm             12   Married-civ-spouse   \n",
              "\n",
              "           occupation relationship    race    sex  capital_gain  capital_loss  \\\n",
              "0   Machine-op-inspct    Own-child   Black   Male             0             0   \n",
              "1     Farming-fishing      Husband   White   Male             0             0   \n",
              "2     Protective-serv      Husband   White   Male             0             0   \n",
              "\n",
              "   hours_per_week  native_country    class  \n",
              "0              40   United-States   <=50K.  \n",
              "1              50   United-States   <=50K.  \n",
              "2              40   United-States    >50K.  "
            ],
            "text/html": [
              "\n",
              "  <div id=\"df-17c044fc-3cce-4d38-93ab-ac880432c787\">\n",
              "    <div class=\"colab-df-container\">\n",
              "      <div>\n",
              "<style scoped>\n",
              "    .dataframe tbody tr th:only-of-type {\n",
              "        vertical-align: middle;\n",
              "    }\n",
              "\n",
              "    .dataframe tbody tr th {\n",
              "        vertical-align: top;\n",
              "    }\n",
              "\n",
              "    .dataframe thead th {\n",
              "        text-align: right;\n",
              "    }\n",
              "</style>\n",
              "<table border=\"1\" class=\"dataframe\">\n",
              "  <thead>\n",
              "    <tr style=\"text-align: right;\">\n",
              "      <th></th>\n",
              "      <th>age</th>\n",
              "      <th>workclass</th>\n",
              "      <th>fnlwgt</th>\n",
              "      <th>education</th>\n",
              "      <th>education_num</th>\n",
              "      <th>marital_status</th>\n",
              "      <th>occupation</th>\n",
              "      <th>relationship</th>\n",
              "      <th>race</th>\n",
              "      <th>sex</th>\n",
              "      <th>capital_gain</th>\n",
              "      <th>capital_loss</th>\n",
              "      <th>hours_per_week</th>\n",
              "      <th>native_country</th>\n",
              "      <th>class</th>\n",
              "    </tr>\n",
              "  </thead>\n",
              "  <tbody>\n",
              "    <tr>\n",
              "      <th>0</th>\n",
              "      <td>25</td>\n",
              "      <td>Private</td>\n",
              "      <td>226802</td>\n",
              "      <td>11th</td>\n",
              "      <td>7</td>\n",
              "      <td>Never-married</td>\n",
              "      <td>Machine-op-inspct</td>\n",
              "      <td>Own-child</td>\n",
              "      <td>Black</td>\n",
              "      <td>Male</td>\n",
              "      <td>0</td>\n",
              "      <td>0</td>\n",
              "      <td>40</td>\n",
              "      <td>United-States</td>\n",
              "      <td>&lt;=50K.</td>\n",
              "    </tr>\n",
              "    <tr>\n",
              "      <th>1</th>\n",
              "      <td>38</td>\n",
              "      <td>Private</td>\n",
              "      <td>89814</td>\n",
              "      <td>HS-grad</td>\n",
              "      <td>9</td>\n",
              "      <td>Married-civ-spouse</td>\n",
              "      <td>Farming-fishing</td>\n",
              "      <td>Husband</td>\n",
              "      <td>White</td>\n",
              "      <td>Male</td>\n",
              "      <td>0</td>\n",
              "      <td>0</td>\n",
              "      <td>50</td>\n",
              "      <td>United-States</td>\n",
              "      <td>&lt;=50K.</td>\n",
              "    </tr>\n",
              "    <tr>\n",
              "      <th>2</th>\n",
              "      <td>28</td>\n",
              "      <td>Local-gov</td>\n",
              "      <td>336951</td>\n",
              "      <td>Assoc-acdm</td>\n",
              "      <td>12</td>\n",
              "      <td>Married-civ-spouse</td>\n",
              "      <td>Protective-serv</td>\n",
              "      <td>Husband</td>\n",
              "      <td>White</td>\n",
              "      <td>Male</td>\n",
              "      <td>0</td>\n",
              "      <td>0</td>\n",
              "      <td>40</td>\n",
              "      <td>United-States</td>\n",
              "      <td>&gt;50K.</td>\n",
              "    </tr>\n",
              "  </tbody>\n",
              "</table>\n",
              "</div>\n",
              "      <button class=\"colab-df-convert\" onclick=\"convertToInteractive('df-17c044fc-3cce-4d38-93ab-ac880432c787')\"\n",
              "              title=\"Convert this dataframe to an interactive table.\"\n",
              "              style=\"display:none;\">\n",
              "        \n",
              "  <svg xmlns=\"http://www.w3.org/2000/svg\" height=\"24px\"viewBox=\"0 0 24 24\"\n",
              "       width=\"24px\">\n",
              "    <path d=\"M0 0h24v24H0V0z\" fill=\"none\"/>\n",
              "    <path d=\"M18.56 5.44l.94 2.06.94-2.06 2.06-.94-2.06-.94-.94-2.06-.94 2.06-2.06.94zm-11 1L8.5 8.5l.94-2.06 2.06-.94-2.06-.94L8.5 2.5l-.94 2.06-2.06.94zm10 10l.94 2.06.94-2.06 2.06-.94-2.06-.94-.94-2.06-.94 2.06-2.06.94z\"/><path d=\"M17.41 7.96l-1.37-1.37c-.4-.4-.92-.59-1.43-.59-.52 0-1.04.2-1.43.59L10.3 9.45l-7.72 7.72c-.78.78-.78 2.05 0 2.83L4 21.41c.39.39.9.59 1.41.59.51 0 1.02-.2 1.41-.59l7.78-7.78 2.81-2.81c.8-.78.8-2.07 0-2.86zM5.41 20L4 18.59l7.72-7.72 1.47 1.35L5.41 20z\"/>\n",
              "  </svg>\n",
              "      </button>\n",
              "      \n",
              "  <style>\n",
              "    .colab-df-container {\n",
              "      display:flex;\n",
              "      flex-wrap:wrap;\n",
              "      gap: 12px;\n",
              "    }\n",
              "\n",
              "    .colab-df-convert {\n",
              "      background-color: #E8F0FE;\n",
              "      border: none;\n",
              "      border-radius: 50%;\n",
              "      cursor: pointer;\n",
              "      display: none;\n",
              "      fill: #1967D2;\n",
              "      height: 32px;\n",
              "      padding: 0 0 0 0;\n",
              "      width: 32px;\n",
              "    }\n",
              "\n",
              "    .colab-df-convert:hover {\n",
              "      background-color: #E2EBFA;\n",
              "      box-shadow: 0px 1px 2px rgba(60, 64, 67, 0.3), 0px 1px 3px 1px rgba(60, 64, 67, 0.15);\n",
              "      fill: #174EA6;\n",
              "    }\n",
              "\n",
              "    [theme=dark] .colab-df-convert {\n",
              "      background-color: #3B4455;\n",
              "      fill: #D2E3FC;\n",
              "    }\n",
              "\n",
              "    [theme=dark] .colab-df-convert:hover {\n",
              "      background-color: #434B5C;\n",
              "      box-shadow: 0px 1px 3px 1px rgba(0, 0, 0, 0.15);\n",
              "      filter: drop-shadow(0px 1px 2px rgba(0, 0, 0, 0.3));\n",
              "      fill: #FFFFFF;\n",
              "    }\n",
              "  </style>\n",
              "\n",
              "      <script>\n",
              "        const buttonEl =\n",
              "          document.querySelector('#df-17c044fc-3cce-4d38-93ab-ac880432c787 button.colab-df-convert');\n",
              "        buttonEl.style.display =\n",
              "          google.colab.kernel.accessAllowed ? 'block' : 'none';\n",
              "\n",
              "        async function convertToInteractive(key) {\n",
              "          const element = document.querySelector('#df-17c044fc-3cce-4d38-93ab-ac880432c787');\n",
              "          const dataTable =\n",
              "            await google.colab.kernel.invokeFunction('convertToInteractive',\n",
              "                                                     [key], {});\n",
              "          if (!dataTable) return;\n",
              "\n",
              "          const docLinkHtml = 'Like what you see? Visit the ' +\n",
              "            '<a target=\"_blank\" href=https://colab.research.google.com/notebooks/data_table.ipynb>data table notebook</a>'\n",
              "            + ' to learn more about interactive tables.';\n",
              "          element.innerHTML = '';\n",
              "          dataTable['output_type'] = 'display_data';\n",
              "          await google.colab.output.renderOutput(dataTable, element);\n",
              "          const docLink = document.createElement('div');\n",
              "          docLink.innerHTML = docLinkHtml;\n",
              "          element.appendChild(docLink);\n",
              "        }\n",
              "      </script>\n",
              "    </div>\n",
              "  </div>\n",
              "  "
            ]
          },
          "metadata": {},
          "execution_count": 7
        }
      ]
    },
    {
      "cell_type": "markdown",
      "source": [
        "# DATA CLEANING AND PREPROCESSING"
      ],
      "metadata": {
        "id": "y9AS_JkhjA8H"
      },
      "id": "y9AS_JkhjA8H"
    },
    {
      "cell_type": "code",
      "execution_count": 8,
      "id": "e0a0170b-58be-4533-b8bb-42bf3e7703cb",
      "metadata": {
        "id": "e0a0170b-58be-4533-b8bb-42bf3e7703cb"
      },
      "outputs": [],
      "source": [
        "df = df.replace(\" ?\" , np.nan)\n",
        "tf = tf.replace(\" ?\" , np.nan)\n",
        "df = df.fillna(df.mode().iloc[0])\n",
        "tf = tf.fillna(tf.mode().iloc[0])"
      ]
    },
    {
      "cell_type": "code",
      "source": [
        "df.shape"
      ],
      "metadata": {
        "colab": {
          "base_uri": "https://localhost:8080/"
        },
        "id": "eRcnPY8mF8-R",
        "outputId": "9748a763-9cc8-4e94-d78e-1f6ecfbf2d55"
      },
      "id": "eRcnPY8mF8-R",
      "execution_count": 9,
      "outputs": [
        {
          "output_type": "execute_result",
          "data": {
            "text/plain": [
              "(32561, 15)"
            ]
          },
          "metadata": {},
          "execution_count": 9
        }
      ]
    },
    {
      "cell_type": "code",
      "source": [
        "tf.shape"
      ],
      "metadata": {
        "colab": {
          "base_uri": "https://localhost:8080/"
        },
        "id": "N2W8erKjW1-n",
        "outputId": "79465f5d-85c0-46cc-c725-c7b41f41103d"
      },
      "id": "N2W8erKjW1-n",
      "execution_count": 10,
      "outputs": [
        {
          "output_type": "execute_result",
          "data": {
            "text/plain": [
              "(16281, 15)"
            ]
          },
          "metadata": {},
          "execution_count": 10
        }
      ]
    },
    {
      "cell_type": "code",
      "execution_count": 11,
      "id": "2ac6f63d-6ea4-46a8-b97b-bc4021f1cf9f",
      "metadata": {
        "id": "2ac6f63d-6ea4-46a8-b97b-bc4021f1cf9f"
      },
      "outputs": [],
      "source": [
        "df['age'] = pd.cut(df['age'], bins=[16, 35, 60, np.inf], labels=['Young', 'Adult', 'Senior-Citizen'])\n",
        "tf['age'] = pd.cut(tf['age'], bins=[16, 35, 60, np.inf], labels=['Young', 'Adult', 'Senior-Citizen'])"
      ]
    },
    {
      "cell_type": "code",
      "execution_count": 12,
      "id": "c6da3f6e-1c7f-4cc2-bb50-d86875f6330a",
      "metadata": {
        "id": "c6da3f6e-1c7f-4cc2-bb50-d86875f6330a"
      },
      "outputs": [],
      "source": [
        "fnlwgt_bins = [0, 100000, 150000, 200000, 300000, np.inf]\n",
        "fnlwgt_labels = [0, 1, 2, 3, 4]\n",
        "\n",
        "# Discretize 'fnlwgt' using custom bins\n",
        "df['fnlwgt'] = pd.cut(df['fnlwgt'], bins=fnlwgt_bins, labels=fnlwgt_labels)\n",
        "tf['fnlwgt'] = pd.cut(tf['fnlwgt'], bins=fnlwgt_bins, labels=fnlwgt_labels)"
      ]
    },
    {
      "cell_type": "code",
      "execution_count": 13,
      "id": "9bfce5fc-e0b5-4634-bece-9e744a2379a3",
      "metadata": {
        "id": "9bfce5fc-e0b5-4634-bece-9e744a2379a3"
      },
      "outputs": [],
      "source": [
        "# Adjusting target attribute such that >50=1 and 0 otherwise\n",
        "\n",
        "df.rename(columns={'class':'target'},inplace=True)\n",
        "tf.rename(columns={'class':'target'},inplace=True)\n",
        "\n",
        "df['target']= df['target'].replace(\" <=50K\", 0)\n",
        "df['target']= df['target'].replace(\" >50K\", 1)\n",
        "# df=df.replace(\">50K\",'1')\n",
        "\n",
        "# Adjusting target attribute such that >50=1 and 0 otherwise\n",
        "\n",
        "tf['target']= tf['target'].replace(\" <=50K.\",0)\n",
        "tf['target']= tf['target'].replace(\" >50K.\",1)\n",
        "# df['class'] = pd.cut(df['class'], bins=[], labels=capital_gain_labels)\n",
        "\n",
        "# df.sample(3)\n",
        "# tf.sample(3)"
      ]
    },
    {
      "cell_type": "code",
      "execution_count": 14,
      "id": "1a449e1d-f115-41fe-a546-8f6be030e310",
      "metadata": {
        "id": "1a449e1d-f115-41fe-a546-8f6be030e310"
      },
      "outputs": [],
      "source": [
        "capital_gain_bins = [0, 1 ,np.inf]\n",
        "capital_gain_labels = ['0','+ve']\n",
        "\n",
        "# Discretize 'capital_gain' using custom bins\n",
        "df['capital_gain'] = pd.cut(df['capital_gain'], bins=capital_gain_bins, labels=capital_gain_labels)\n",
        "tf['capital_gain'] = pd.cut(tf['capital_gain'], bins=capital_gain_bins, labels=capital_gain_labels)"
      ]
    },
    {
      "cell_type": "code",
      "execution_count": 15,
      "id": "72778022-85c5-4332-8763-ad29e7e78273",
      "metadata": {
        "id": "72778022-85c5-4332-8763-ad29e7e78273"
      },
      "outputs": [],
      "source": [
        "df['capital_gain'] = df['capital_gain'].astype('category')\n",
        "df['capital_gain'] = df['capital_gain'].cat.add_categories('NoGain')\n",
        "df['capital_gain'].fillna('NoGain', inplace=True)"
      ]
    },
    {
      "cell_type": "code",
      "execution_count": 16,
      "id": "9bff44b7-ede3-4a0f-97b9-57266b95da17",
      "metadata": {
        "id": "9bff44b7-ede3-4a0f-97b9-57266b95da17"
      },
      "outputs": [],
      "source": [
        "tf['capital_gain'] = tf['capital_gain'].astype('category')\n",
        "tf['capital_gain'] = tf['capital_gain'].cat.add_categories('NoGain')\n",
        "tf['capital_gain'].fillna('NoGain', inplace=True)"
      ]
    },
    {
      "cell_type": "code",
      "execution_count": 17,
      "id": "3a092048-7a05-46aa-8474-f5c790a92dc8",
      "metadata": {
        "id": "3a092048-7a05-46aa-8474-f5c790a92dc8"
      },
      "outputs": [],
      "source": [
        "capital_loss_bins = [0, 1 ,np.inf]\n",
        "capital_loss_labels = ['0','+ve']\n",
        "\n",
        "# Discretize 'capital_gain' using custom bins\n",
        "df['capital_loss'] = pd.cut(df['capital_loss'], bins=capital_loss_bins, labels=capital_loss_labels)\n",
        "tf['capital_loss'] = pd.cut(tf['capital_loss'], bins=capital_loss_bins, labels=capital_loss_labels)"
      ]
    },
    {
      "cell_type": "code",
      "execution_count": 18,
      "id": "95c86ad4-5ee0-4e17-90fa-361e03276a10",
      "metadata": {
        "id": "95c86ad4-5ee0-4e17-90fa-361e03276a10"
      },
      "outputs": [],
      "source": [
        "df['capital_loss'] = df['capital_loss'].astype('category')\n",
        "df['capital_loss'] = df['capital_loss'].cat.add_categories('Noloss')\n",
        "df['capital_loss'].fillna('Noloss', inplace=True)"
      ]
    },
    {
      "cell_type": "code",
      "execution_count": 19,
      "id": "71d968eb-6ef9-4718-87f8-b629445cd437",
      "metadata": {
        "id": "71d968eb-6ef9-4718-87f8-b629445cd437"
      },
      "outputs": [],
      "source": [
        "tf['capital_loss'] = tf['capital_loss'].astype('category')\n",
        "tf['capital_loss'] = tf['capital_loss'].cat.add_categories('Noloss')\n",
        "tf['capital_loss'].fillna('Noloss', inplace=True)"
      ]
    },
    {
      "cell_type": "code",
      "execution_count": 20,
      "id": "a068ed05-1fd4-4faf-b658-79b7927a07ba",
      "metadata": {
        "id": "a068ed05-1fd4-4faf-b658-79b7927a07ba"
      },
      "outputs": [],
      "source": [
        "# df.sample(5)"
      ]
    },
    {
      "cell_type": "code",
      "source": [
        "# tf.sample(5)"
      ],
      "metadata": {
        "id": "p_BoWsZYm42E"
      },
      "id": "p_BoWsZYm42E",
      "execution_count": 21,
      "outputs": []
    },
    {
      "cell_type": "code",
      "execution_count": 22,
      "id": "aec09933-2c46-4f9e-917f-c3715d86e3f1",
      "metadata": {
        "id": "aec09933-2c46-4f9e-917f-c3715d86e3f1"
      },
      "outputs": [],
      "source": [
        "df['hours_per_week'] = pd.cut(df['hours_per_week'], bins=[0, 20, 40, 60, 80, 100], labels=[0, 1, 2, 3, 4])"
      ]
    },
    {
      "cell_type": "code",
      "execution_count": 23,
      "id": "7d19c868-db4c-4b26-8899-7d317f41ab09",
      "metadata": {
        "id": "7d19c868-db4c-4b26-8899-7d317f41ab09"
      },
      "outputs": [],
      "source": [
        "tf['hours_per_week'] = pd.cut(tf['hours_per_week'], bins=[0, 20, 40, 60, 80, 100], labels=[0, 1, 2, 3, 4])"
      ]
    },
    {
      "cell_type": "code",
      "execution_count": 24,
      "id": "2e5facf7-02a4-404d-a482-c9b59153f250",
      "metadata": {
        "id": "2e5facf7-02a4-404d-a482-c9b59153f250"
      },
      "outputs": [],
      "source": [
        "df.to_csv('df_cleaned_final.csv', index=False)"
      ]
    },
    {
      "cell_type": "code",
      "execution_count": 25,
      "id": "2dae23c4-c9fa-45d5-9314-1bbdbf52661c",
      "metadata": {
        "id": "2dae23c4-c9fa-45d5-9314-1bbdbf52661c"
      },
      "outputs": [],
      "source": [
        "tf.to_csv('dt_cleaned_final.csv', index=False)"
      ]
    },
    {
      "cell_type": "code",
      "execution_count": 26,
      "id": "85db0ec9-657f-43fd-b489-9fa4ae6b02a9",
      "metadata": {
        "id": "85db0ec9-657f-43fd-b489-9fa4ae6b02a9"
      },
      "outputs": [],
      "source": [
        "for column in df.columns :\n",
        "    df[column] = df[column].astype('category')"
      ]
    },
    {
      "cell_type": "code",
      "execution_count": 27,
      "id": "a41ff3e3-bac3-47b5-8280-20b0b089dabf",
      "metadata": {
        "id": "a41ff3e3-bac3-47b5-8280-20b0b089dabf"
      },
      "outputs": [],
      "source": [
        "for column in tf.columns :\n",
        "    tf[column] = tf[column].astype('category')"
      ]
    },
    {
      "cell_type": "code",
      "execution_count": 28,
      "id": "8b9e74aa-bd15-419f-8b1f-a36d31bf8383",
      "metadata": {
        "id": "8b9e74aa-bd15-419f-8b1f-a36d31bf8383"
      },
      "outputs": [],
      "source": [
        "q = [df,tf]"
      ]
    },
    {
      "cell_type": "code",
      "execution_count": 29,
      "id": "97719a9a-16e8-43f1-8523-86076e23e0f3",
      "metadata": {
        "colab": {
          "base_uri": "https://localhost:8080/"
        },
        "id": "97719a9a-16e8-43f1-8523-86076e23e0f3",
        "outputId": "0a423c90-e410-41da-c5c7-568164488145"
      },
      "outputs": [
        {
          "output_type": "execute_result",
          "data": {
            "text/plain": [
              "(48842, 15)"
            ]
          },
          "metadata": {},
          "execution_count": 29
        }
      ],
      "source": [
        "result = pd.concat(q)\n",
        "\n",
        "result.shape"
      ]
    },
    {
      "cell_type": "code",
      "execution_count": 30,
      "id": "70366069-5d4c-4998-9c3f-4f50646b8ed8",
      "metadata": {
        "id": "70366069-5d4c-4998-9c3f-4f50646b8ed8"
      },
      "outputs": [],
      "source": [
        "# Numerical encoding the features\n",
        "R_enc = LabelEncoder()\n",
        "R_final = result.apply(LabelEncoder().fit_transform)"
      ]
    },
    {
      "cell_type": "code",
      "execution_count": 31,
      "id": "dc8a53fa-aea1-454e-891a-a8037b9a9ad1",
      "metadata": {
        "id": "dc8a53fa-aea1-454e-891a-a8037b9a9ad1"
      },
      "outputs": [],
      "source": [
        "value_counts = R_final['target'].value_counts()\n",
        "X, y = R_final.iloc[:32560, :-1], R_final.iloc[:32560, -1]\n",
        "a, b= R_final.iloc[32561:48841, :-1], R_final.iloc[32561:48841, -1]"
      ]
    },
    {
      "cell_type": "markdown",
      "source": [
        "# MODEL TRAINING AND IMPLEMENTATION ( DT )"
      ],
      "metadata": {
        "id": "g_3ByX5fAQse"
      },
      "id": "g_3ByX5fAQse"
    },
    {
      "cell_type": "code",
      "execution_count": 34,
      "id": "6a365bee-575c-4d01-8ed0-b62a397765cc",
      "metadata": {
        "colab": {
          "base_uri": "https://localhost:8080/"
        },
        "id": "6a365bee-575c-4d01-8ed0-b62a397765cc",
        "outputId": "1c7daed3-8681-4686-a9e2-3820b20788a7"
      },
      "outputs": [
        {
          "output_type": "stream",
          "name": "stdout",
          "text": [
            "Number of nodes in the decision tree: 12065\n",
            "Depth of the decision tree: 33\n",
            "Accuracy: 80.2948402948403\n",
            "Precision: 0.592292089249493\n",
            "Recall: 0.5315994798439532\n",
            "F1-score: 0.5603070175438597\n",
            "Confusion Matrix:\n",
            "[[11028  1407]\n",
            " [ 1801  2044]]\n"
          ]
        }
      ],
      "source": [
        "# Split the dataset into training and testing sets\n",
        "X_train1, X_test1, y_train1, y_test1 = X ,a ,y ,b\n",
        "\n",
        "# Create a decision tree classifier\n",
        "clf1 = DecisionTreeClassifier(criterion='entropy')\n",
        "\n",
        "# Train the classifier on the training data\n",
        "clf1.fit(X_train1, y_train1)\n",
        "\n",
        "# Make predictions on the testing data\n",
        "y_pred1 = clf1.predict(X_test1)\n",
        "\n",
        "# Get the number of nodes in the decision tree\n",
        "num_nodes1 = clf1.tree_.node_count\n",
        "depth1 = clf1.get_depth()\n",
        "print(\"Number of nodes in the decision tree:\", num_nodes1)\n",
        "print(\"Depth of the decision tree:\", depth1)\n",
        "\n",
        "# Evaluate the model\n",
        "accuracy1 = metrics.accuracy_score(y_test1, y_pred1)\n",
        "precision1 = metrics.precision_score(y_test1, y_pred1)\n",
        "recall1 = metrics.recall_score(y_test1, y_pred1)\n",
        "f1_score1 = metrics.f1_score(y_test1, y_pred1)\n",
        "\n",
        "print(\"Accuracy:\", accuracy1*100)\n",
        "print(\"Precision:\", precision1)\n",
        "print(\"Recall:\", recall1)\n",
        "print(\"F1-score:\", f1_score1)\n",
        "\n",
        "# Generate confusion matrix\n",
        "confusion_matrix1 = metrics.confusion_matrix(y_test1, y_pred1)\n",
        "print(\"Confusion Matrix:\")\n",
        "print(confusion_matrix1)"
      ]
    },
    {
      "cell_type": "code",
      "source": [
        "# Plot confusion matrix\n",
        "sns.heatmap(confusion_matrix1, annot=True, fmt='d', cmap='Blues')\n",
        "plt.xlabel('Predicted')\n",
        "plt.ylabel('True')\n",
        "plt.title('Confusion Matrix of Decision Tree')\n",
        "plt.show()"
      ],
      "metadata": {
        "colab": {
          "base_uri": "https://localhost:8080/",
          "height": 472
        },
        "id": "gJ0lvS4W-HD3",
        "outputId": "44d93cf8-be2c-4843-ca1c-2ed026e8c5c6"
      },
      "id": "gJ0lvS4W-HD3",
      "execution_count": 37,
      "outputs": [
        {
          "output_type": "display_data",
          "data": {
            "text/plain": [
              "<Figure size 640x480 with 2 Axes>"
            ],
            "image/png": "[encoded data removed]"
          },
          "metadata": {}
        }
      ]
    },
    {
      "cell_type": "markdown",
      "source": [
        "# DECISION TREE PRUNING"
      ],
      "metadata": {
        "id": "FVB-eT90sjsn"
      },
      "id": "FVB-eT90sjsn"
    },
    {
      "cell_type": "code",
      "source": [
        "# Prune the decision tree using reduced error pruning\n",
        "\n",
        "# Split the testing data into validation and new testing sets\n",
        "X_val, X_new_test, y_val, y_new_test = train_test_split(X_test1, y_test1, test_size=0.5, random_state=42)\n",
        "\n",
        "path = clf1.cost_complexity_pruning_path(X_train1, y_train1)\n",
        "ccp_alphas, impurities = path.ccp_alphas, path.impurities\n",
        "\n",
        "clfs = []\n",
        "for ccp_alpha in ccp_alphas:\n",
        "    clf1 = DecisionTreeClassifier(random_state=0, ccp_alpha=ccp_alpha, criterion='entropy')\n",
        "    clf1.fit(X_train1, y_train1)\n",
        "    clfs.append(clf1)\n",
        "\n",
        "train_nodes = [clf1.tree_.node_count for clf1 in clfs]\n",
        "train_scores = [clf1.score(X_train1, y_train1) for clf1 in clfs]\n",
        "test_scores = [clf1.score(X_test1, y_test1) for clf1 in clfs]\n",
        "val_scores = [clf1.score(X_val, y_val) for clf1 in clfs]\n",
        "\n",
        "# Plotting the number of nodes vs accuracy\n",
        "plt.figure(figsize=(15, 9))\n",
        "plt.plot(train_nodes, train_scores, marker='o', label=\"Train\", linewidth=0.5, markersize=2)\n",
        "plt.plot(train_nodes, test_scores, marker='o', label=\"Test\", linewidth=0.5, markersize=2)\n",
        "plt.plot(train_nodes, val_scores, marker='o', label=\"Validation\", linewidth=0.5, markersize=2)\n",
        "plt.xlabel(\"Number of Nodes\")\n",
        "plt.ylabel(\"Accuracy\")\n",
        "plt.title(\"Accuracy vs Number of Nodes\")\n",
        "plt.legend()\n",
        "plt.xlim(0, 1000)\n",
        "plt.show()\n",
        "\n",
        "# Find the optimal decision tree based on validation accuracy\n",
        "optimal_alpha = ccp_alphas[np.argmax(val_scores)]\n",
        "optimal_clf = clfs[np.argmax(val_scores)]\n",
        "\n",
        "# Make predictions on the new testing data using the optimal decision tree\n",
        "y_new_pred = optimal_clf.predict(X_new_test)\n",
        "\n",
        "# Evaluate the model\n",
        "pruning_accuracy = metrics.accuracy_score(y_new_test, y_new_pred)\n",
        "print(\"Accuracy after pruning:\", pruning_accuracy * 100)"
      ],
      "metadata": {
        "id": "QqWWI0f158xm",
        "colab": {
          "base_uri": "https://localhost:8080/",
          "height": 812
        },
        "outputId": "61e75b69-f01c-4f68-d4d8-0333c88f2e7d"
      },
      "id": "QqWWI0f158xm",
      "execution_count": 38,
      "outputs": [
        {
          "output_type": "display_data",
          "data": {
            "text/plain": [
              "<Figure size 1500x900 with 1 Axes>"
            ],
            "image/png": "[encoded data removed]"
          },
          "metadata": {}
        },
        {
          "output_type": "stream",
          "name": "stdout",
          "text": [
            "Accuracy after pruning: 83.45208845208846\n"
          ]
        }
      ]
    },
    {
      "cell_type": "code",
      "source": [
        "train_errors = [1 - score for score in train_scores]\n",
        "test_errors = [1 - score for score in test_scores]\n",
        "val_errors = [1 - score for score in val_scores]\n",
        "\n",
        "# Plotting the number of nodes vs error\n",
        "plt.figure(figsize=(15, 9))\n",
        "plt.plot(train_nodes, train_errors, marker='o', label=\"Train\", linewidth=0.5, markersize=2)\n",
        "plt.plot(train_nodes, test_errors, marker='o', label=\"Test\", linewidth=0.5, markersize=2)\n",
        "plt.plot(train_nodes, val_errors, marker='o', label=\"Validation\", linewidth=0.5, markersize=2)\n",
        "plt.xlabel(\"Number of Nodes\")\n",
        "plt.ylabel(\"Error\")\n",
        "plt.title(\"Error vs Number of Nodes\")\n",
        "plt.legend()\n",
        "plt.xlim(0, 1000)\n",
        "plt.show()\n"
      ],
      "metadata": {
        "id": "POhcksbbErND",
        "colab": {
          "base_uri": "https://localhost:8080/",
          "height": 795
        },
        "outputId": "3004b920-c927-423f-c7f6-615efb016435"
      },
      "id": "POhcksbbErND",
      "execution_count": 39,
      "outputs": [
        {
          "output_type": "display_data",
          "data": {
            "text/plain": [
              "<Figure size 1500x900 with 1 Axes>"
            ],
            "image/png": "[encoded data removed]"
          },
          "metadata": {}
        }
      ]
    },
    {
      "cell_type": "code",
      "source": [
        "from sklearn.metrics import classification_report, confusion_matrix\n",
        "\n",
        "# Calculate accuracy, precision, recall, and F1-score\n",
        "classification_report_result = classification_report(y_new_test, y_new_pred)\n",
        "print(\"Classification Report:\")\n",
        "print(classification_report_result)\n",
        "\n",
        "# Generate confusion matrix\n",
        "confusion_mat = confusion_matrix(y_new_test, y_new_pred)\n",
        "print(\"Confusion Matrix:\")\n",
        "print(confusion_mat)\n",
        "\n",
        "# Record number of nodes and depths of the pruned decision tree\n",
        "pruned_tree_nodes = optimal_clf.tree_.node_count\n",
        "pruned_tree_depth = optimal_clf.tree_.max_depth\n",
        "\n",
        "print(\"Number of Nodes in Pruned Decision Tree:\", pruned_tree_nodes)\n",
        "print(\"Depth of Pruned Decision Tree:\", pruned_tree_depth)\n"
      ],
      "metadata": {
        "id": "4D1CHPNR58u8",
        "colab": {
          "base_uri": "https://localhost:8080/"
        },
        "outputId": "f178fad0-b726-407d-fdb9-3514ce85f9b9"
      },
      "id": "4D1CHPNR58u8",
      "execution_count": 42,
      "outputs": [
        {
          "output_type": "stream",
          "name": "stdout",
          "text": [
            "Classification Report:\n",
            "              precision    recall  f1-score   support\n",
            "\n",
            "           0       0.87      0.92      0.89      6235\n",
            "           1       0.68      0.55      0.61      1905\n",
            "\n",
            "    accuracy                           0.83      8140\n",
            "   macro avg       0.78      0.74      0.75      8140\n",
            "weighted avg       0.83      0.83      0.83      8140\n",
            "\n",
            "Confusion Matrix:\n",
            "[[5740  495]\n",
            " [ 852 1053]]\n",
            "Number of Nodes in Pruned Decision Tree: 317\n",
            "Depth of Pruned Decision Tree: 14\n"
          ]
        }
      ]
    },
    {
      "cell_type": "code",
      "source": [
        "import matplotlib.pyplot as plt\n",
        "import numpy as np\n",
        "\n",
        "# Calculate precision, recall, and F1-score from the classification report\n",
        "report_data = classification_report(y_new_test, y_new_pred, output_dict=True)\n",
        "precision = [report_data[label]['precision'] for label in ['0', '1']]\n",
        "recall = [report_data[label]['recall'] for label in ['0', '1']]\n",
        "f1_score = [report_data[label]['f1-score'] for label in ['0', '1']]\n",
        "\n",
        "# Plot the graph\n",
        "labels = ['0', '1']\n",
        "x = np.arange(len(labels))\n",
        "width = 0.2\n",
        "\n",
        "fig, ax = plt.subplots(figsize=(10, 6))\n",
        "rects1 = ax.bar(x - width, precision, width, label='Precision')\n",
        "rects2 = ax.bar(x, recall, width, label='Recall')\n",
        "rects3 = ax.bar(x + width, f1_score, width, label='F1-score')\n",
        "\n",
        "ax.set_xlabel('Target')\n",
        "ax.set_ylabel('Score')\n",
        "ax.set_title('Scores by Target')\n",
        "ax.set_xticks(x)\n",
        "ax.set_xticklabels(labels)\n",
        "ax.legend()\n",
        "\n",
        "plt.show()\n"
      ],
      "metadata": {
        "colab": {
          "base_uri": "https://localhost:8080/",
          "height": 564
        },
        "id": "2j7zfBz8C-qJ",
        "outputId": "15039d6f-8d71-42a5-ff65-93795f09a162"
      },
      "id": "2j7zfBz8C-qJ",
      "execution_count": 44,
      "outputs": [
        {
          "output_type": "display_data",
          "data": {
            "text/plain": [
              "<Figure size 1000x600 with 1 Axes>"
            ],
            "image/png": "[encoded data removed]"
          },
          "metadata": {}
        }
      ]
    },
    {
      "cell_type": "code",
      "source": [
        "features_list = list(df.columns[:-1])\n",
        "features_list"
      ],
      "metadata": {
        "id": "wo4qMEaich-I",
        "colab": {
          "base_uri": "https://localhost:8080/"
        },
        "outputId": "f94a4421-3932-4fa2-9e8b-614dd15ac53d"
      },
      "id": "wo4qMEaich-I",
      "execution_count": 45,
      "outputs": [
        {
          "output_type": "execute_result",
          "data": {
            "text/plain": [
              "['age',\n",
              " 'workclass',\n",
              " 'fnlwgt',\n",
              " 'education',\n",
              " 'education_num',\n",
              " 'marital_status',\n",
              " 'occupation',\n",
              " 'relationship',\n",
              " 'race',\n",
              " 'sex',\n",
              " 'capital_gain',\n",
              " 'capital_loss',\n",
              " 'hours_per_week',\n",
              " 'native_country']"
            ]
          },
          "metadata": {},
          "execution_count": 45
        }
      ]
    },
    {
      "cell_type": "markdown",
      "source": [
        "# Saving Pruned DT with Entropy Criterion"
      ],
      "metadata": {
        "id": "vvaVqlrhv9Zo"
      },
      "id": "vvaVqlrhv9Zo"
    },
    {
      "cell_type": "code",
      "source": [
        "# Export the pruned optimal decision tree to Graphviz format\n",
        "dot_data = StringIO()\n",
        "export_graphviz(optimal_clf, out_file=dot_data, feature_names=features_list)\n",
        "\n",
        "# Create the graph from the dot data\n",
        "graph = pydotplus.graph_from_dot_data(dot_data.getvalue())\n",
        "\n",
        "# Generate the SVG representation of the graph\n",
        "svg_bytes = graph.create_svg()\n",
        "\n",
        "# Display the SVG graph\n",
        "SVG(svg_bytes)\n",
        "svg_content = svg_bytes.decode()\n",
        "\n",
        "# Save the SVG image to a file\n",
        "with open('decision_tree2.svg', 'w') as f:\n",
        "    f.write(svg_content)"
      ],
      "metadata": {
        "id": "AjzmYna2OFN0"
      },
      "id": "AjzmYna2OFN0",
      "execution_count": 46,
      "outputs": []
    },
    {
      "cell_type": "markdown",
      "source": [
        "# Pruning with max depth reduced error pruning"
      ],
      "metadata": {
        "id": "ZPWWU7thwr7-"
      },
      "id": "ZPWWU7thwr7-"
    },
    {
      "cell_type": "code",
      "source": [
        "# Split the dataset into training and testing sets\n",
        "X_train1, X_test1, y_train1, y_test1 = X ,a ,y ,b\n",
        "\n",
        "# Create a decision tree classifier\n",
        "clf1 = DecisionTreeClassifier(criterion='entropy')\n",
        "\n",
        "# Train the classifier on the training data\n",
        "clf1.fit(X_train1, y_train1)\n",
        "\n",
        "# Make predictions on the testing data\n",
        "y_pred1 = clf1.predict(X_test1)\n",
        "\n",
        "# Get the number of nodes in the decision tree\n",
        "num_nodes1 = clf1.tree_.node_count\n",
        "depth1 = clf1.get_depth()\n",
        "\n",
        "x = clf1.get_depth()\n",
        "\n",
        "train_errors = []\n",
        "val_errors = []\n",
        "test_errors = []\n",
        "num_nodes = []\n",
        "\n",
        "best_val_error = float('inf')\n",
        "best_train_error = float('inf')\n",
        "best_test_error = float('inf')\n",
        "best_accuracy = 0.0\n",
        "best_depth = 0\n",
        "best_num_nodes = 0\n",
        "\n",
        "for i in range(1, x + 1):\n",
        "    new_tree = DecisionTreeClassifier(max_depth=i)\n",
        "    new_tree.fit(X_train1, y_train1)\n",
        "\n",
        "    train_pred = new_tree.predict(X_train1)\n",
        "    train_error = 1 - metrics.accuracy_score(y_train1, train_pred)\n",
        "    train_errors.append(train_error)\n",
        "\n",
        "    val_pred = new_tree.predict(X_val)\n",
        "    val_error = 1 - metrics.accuracy_score(y_val, val_pred)\n",
        "    val_errors.append(val_error)\n",
        "\n",
        "    test_pred = new_tree.predict(X_test1)\n",
        "    test_error = 1 - metrics.accuracy_score(y_test1, test_pred)\n",
        "    test_errors.append(test_error)\n",
        "\n",
        "    num_nodes.append(new_tree.tree_.node_count)\n",
        "\n",
        "    if val_error < best_val_error and train_error < best_train_error:\n",
        "        best_val_error = val_error\n",
        "        best_train_error = train_error\n",
        "        best_test_error = test_error\n",
        "        best_accuracy = metrics.accuracy_score(y_test1, test_pred)\n",
        "        best_depth = i\n",
        "        best_num_nodes = new_tree.tree_.node_count\n",
        "\n",
        "depths = np.arange(1, x + 1)"
      ],
      "metadata": {
        "id": "VWMm9LfKwrUJ"
      },
      "id": "VWMm9LfKwrUJ",
      "execution_count": 49,
      "outputs": []
    },
    {
      "cell_type": "code",
      "source": [
        "plt.figure(figsize=(10, 6))\n",
        "plt.plot(depths, train_errors, label='Training Error')\n",
        "plt.plot(depths, val_errors, label='Validation Error')\n",
        "plt.plot(depths, test_errors, label='Testing Error')\n",
        "plt.xlabel('Depth of Tree')\n",
        "plt.ylabel('Error')\n",
        "plt.title('Error vs. Depth of Tree')\n",
        "plt.legend()\n",
        "plt.show()\n",
        "\n",
        "print(\"Best Depth:\", best_depth)\n",
        "print(\"Number of Nodes at Best Depth:\", best_num_nodes)\n",
        "print(\"Training Error at Best Depth:\", best_train_error)\n",
        "print(\"Validation Error at Best Depth:\", best_val_error)\n",
        "print(\"Testing Error at Best Depth:\", best_test_error)\n",
        "print(\"Accuracy at Best Depth:\", best_accuracy * 100)"
      ],
      "metadata": {
        "colab": {
          "base_uri": "https://localhost:8080/",
          "height": 668
        },
        "id": "-2FYVEfAeJD4",
        "outputId": "32ebc884-d865-4950-f910-ad38c23a96dd"
      },
      "id": "-2FYVEfAeJD4",
      "execution_count": 50,
      "outputs": [
        {
          "output_type": "display_data",
          "data": {
            "text/plain": [
              "<Figure size 1000x600 with 1 Axes>"
            ],
            "image/png": "[encoded data removed]"
          },
          "metadata": {}
        },
        {
          "output_type": "stream",
          "name": "stdout",
          "text": [
            "Best Depth: 7\n",
            "Number of Nodes at Best Depth: 235\n",
            "Training Error at Best Depth: 0.15856879606879604\n",
            "Validation Error at Best Depth: 0.15847665847665848\n",
            "Testing Error at Best Depth: 0.163022113022113\n",
            "Accuracy at Best Depth: 83.6977886977887\n"
          ]
        }
      ]
    },
    {
      "cell_type": "code",
      "source": [
        "from sklearn.metrics import confusion_matrix, classification_report\n",
        "\n",
        "# Calculate evaluation metrics for the best depth\n",
        "best_tree = DecisionTreeClassifier(max_depth=best_depth)\n",
        "best_tree.fit(X_train1, y_train1)\n",
        "\n",
        "# Predict labels for train, validation, and test sets\n",
        "train_pred = best_tree.predict(X_train1)\n",
        "val_pred = best_tree.predict(X_val)\n",
        "test_pred = best_tree.predict(X_test1)\n",
        "\n",
        "# Calculate evaluation metrics for train, validation, and test sets\n",
        "train_accuracy = metrics.accuracy_score(y_train1, train_pred)\n",
        "val_accuracy = metrics.accuracy_score(y_val, val_pred)\n",
        "test_accuracy = metrics.accuracy_score(y_test1, test_pred)\n",
        "\n",
        "train_precision = metrics.precision_score(y_train1, train_pred)\n",
        "val_precision = metrics.precision_score(y_val, val_pred)\n",
        "test_precision = metrics.precision_score(y_test1, test_pred)\n",
        "\n",
        "train_recall = metrics.recall_score(y_train1, train_pred)\n",
        "val_recall = metrics.recall_score(y_val, val_pred)\n",
        "test_recall = metrics.recall_score(y_test1, test_pred)\n",
        "\n",
        "train_f1 = metrics.f1_score(y_train1, train_pred)\n",
        "val_f1 = metrics.f1_score(y_val, val_pred)\n",
        "test_f1 = metrics.f1_score(y_test1, test_pred)\n",
        "\n",
        "# Generate confusion matrices\n",
        "train_confusion_matrix = confusion_matrix(y_train1, train_pred)\n",
        "val_confusion_matrix = confusion_matrix(y_val, val_pred)\n",
        "test_confusion_matrix = confusion_matrix(y_test1, test_pred)\n",
        "\n",
        "# ... (plotting code)\n",
        "\n",
        "# Print evaluation metrics and confusion matrices\n",
        "print(\"Evaluation Metrics:\")\n",
        "print(\"Best Depth:\", best_depth)\n",
        "print(\"Number of Nodes at Best Depth:\", best_num_nodes)\n",
        "\n",
        "print(\"\\nTraining Set:\")\n",
        "print(\"Accuracy:\", train_accuracy)\n",
        "print(\"Precision:\", train_precision)\n",
        "print(\"Recall:\", train_recall)\n",
        "print(\"F1-score:\", train_f1)\n",
        "print(\"Confusion Matrix:\")\n",
        "print(train_confusion_matrix)\n",
        "\n",
        "print(\"\\nValidation Set:\")\n",
        "print(\"Accuracy:\", val_accuracy)\n",
        "print(\"Precision:\", val_precision)\n",
        "print(\"Recall:\", val_recall)\n",
        "print(\"F1-score:\", val_f1)\n",
        "print(\"Confusion Matrix:\")\n",
        "print(val_confusion_matrix)\n",
        "\n",
        "print(\"\\nTesting Set:\")\n",
        "print(\"Accuracy:\", test_accuracy)\n",
        "print(\"Precision:\", test_precision)\n",
        "print(\"Recall:\", test_recall)\n",
        "print(\"F1-score:\", test_f1)\n",
        "print(\"Confusion Matrix:\")\n",
        "print(test_confusion_matrix)\n"
      ],
      "metadata": {
        "colab": {
          "base_uri": "https://localhost:8080/"
        },
        "id": "Ib0Dpmp_EGut",
        "outputId": "32284b74-05f9-45bc-9865-36fa6aa868d7"
      },
      "id": "Ib0Dpmp_EGut",
      "execution_count": 53,
      "outputs": [
        {
          "output_type": "stream",
          "name": "stdout",
          "text": [
            "Evaluation Metrics:\n",
            "Best Depth: 7\n",
            "Number of Nodes at Best Depth: 235\n",
            "\n",
            "Training Set:\n",
            "Accuracy: 0.841431203931204\n",
            "Precision: 0.7268259617014066\n",
            "Recall: 0.5470663265306123\n",
            "F1-score: 0.6242631540644786\n",
            "Confusion Matrix:\n",
            "[[23108  1612]\n",
            " [ 3551  4289]]\n",
            "\n",
            "Validation Set:\n",
            "Accuracy: 0.8416461916461917\n",
            "Precision: 0.7237113402061855\n",
            "Recall: 0.5427835051546391\n",
            "F1-score: 0.6203240058910162\n",
            "Confusion Matrix:\n",
            "[[5798  402]\n",
            " [ 887 1053]]\n",
            "\n",
            "Testing Set:\n",
            "Accuracy: 0.836916461916462\n",
            "Precision: 0.7087719298245614\n",
            "Recall: 0.5253576072821846\n",
            "F1-score: 0.6034353995519044\n",
            "Confusion Matrix:\n",
            "[[11605   830]\n",
            " [ 1825  2020]]\n"
          ]
        }
      ]
    },
    {
      "cell_type": "markdown",
      "source": [
        "# MIXED DATASET TTS"
      ],
      "metadata": {
        "id": "VDno5Yyzsaoz"
      },
      "id": "VDno5Yyzsaoz"
    },
    {
      "cell_type": "code",
      "source": [
        "from sklearn.model_selection import train_test_split\n",
        "\n",
        "# Combine the df and tf DataFrames\n",
        "combined_df = pd.concat([df, tf])\n",
        "\n",
        "# Numerical encoding the features\n",
        "R_enc = LabelEncoder()\n",
        "R_final = combined_df.apply(LabelEncoder().fit_transform)\n",
        "\n",
        "# Split the dataset into training and testing sets\n",
        "X = R_final.iloc[:, :-1]\n",
        "y = R_final.iloc[:, -1]\n",
        "\n",
        "# Split the data randomly into training and testing sets with a 67% training and 33% testing split\n",
        "X_train2, X_test2, y_train2, y_test2 = train_test_split(X, y, test_size=0.33, random_state=42)\n",
        "\n",
        "# Print the shapes of the training and testing sets\n",
        "print(\"Training set shape:\", X_train2.shape, y_train2.shape)\n",
        "print(\"Testing set shape:\", X_test2.shape, y_test2.shape)"
      ],
      "metadata": {
        "colab": {
          "base_uri": "https://localhost:8080/"
        },
        "id": "YAmhIl0r9kP7",
        "outputId": "4c294ff0-6c21-4151-9415-1c815655708f"
      },
      "id": "YAmhIl0r9kP7",
      "execution_count": 58,
      "outputs": [
        {
          "output_type": "stream",
          "name": "stdout",
          "text": [
            "Training set shape: (32724, 14) (32724,)\n",
            "Testing set shape: (16118, 14) (16118,)\n"
          ]
        }
      ]
    },
    {
      "cell_type": "code",
      "source": [
        "# 67% training set randomly distributed\n",
        "\n",
        "# Create a decision tree classifier\n",
        "clf_2 = DecisionTreeClassifier(criterion='entropy')\n",
        "\n",
        "# Train the classifier on the training data\n",
        "clf_2.fit(X_train2, y_train2)\n",
        "\n",
        "# Make predictions on the testing data\n",
        "y_pred2 = clf_2.predict(X_test2)\n",
        "\n",
        "# Get the number of nodes in the decision tree\n",
        "num_nodes2 = clf_2.tree_.node_count\n",
        "print(\"Number of nodes in the decision tree:\", num_nodes2)\n",
        "\n",
        "# Get the depth of the decision tree\n",
        "depth2 = clf_2.get_depth()\n",
        "print(\"Depth of the decision tree:\", depth2)\n",
        "\n",
        "# Evaluate the model\n",
        "accuracy = metrics.accuracy_score(y_test2, y_pred2)\n",
        "print(\"Accuracy:\", accuracy*100)\n"
      ],
      "metadata": {
        "id": "NXQQ7jFZqTUX",
        "colab": {
          "base_uri": "https://localhost:8080/"
        },
        "outputId": "bfaec7b3-67f5-4813-eacb-4022aec490ef"
      },
      "id": "NXQQ7jFZqTUX",
      "execution_count": 59,
      "outputs": [
        {
          "output_type": "stream",
          "name": "stdout",
          "text": [
            "Number of nodes in the decision tree: 12067\n",
            "Depth of the decision tree: 32\n",
            "Accuracy: 80.38218141208586\n"
          ]
        }
      ]
    },
    {
      "cell_type": "code",
      "source": [
        "import matplotlib.pyplot as plt\n",
        "import seaborn as sns\n",
        "from sklearn.metrics import confusion_matrix, f1_score, accuracy_score\n",
        "\n",
        "# Calculate the confusion matrix\n",
        "cm = confusion_matrix(y_test2, y_pred2)\n",
        "\n",
        "# Calculate the F1 score\n",
        "f1 = f1_score(y_test2, y_pred2)\n",
        "\n",
        "# Calculate the accuracy\n",
        "accuracy = accuracy_score(y_test2, y_pred2)\n",
        "\n",
        "# Plot the confusion matrix\n",
        "plt.figure(figsize=(8, 6))\n",
        "sns.heatmap(cm, annot=True, cmap='Blues', fmt='g')\n",
        "plt.title('Confusion Matrix for Mixed Dataset')\n",
        "plt.xlabel('Predicted labels')\n",
        "plt.ylabel('True labels')\n",
        "plt.show()\n",
        "\n",
        "# Print the F1 score and accuracy\n",
        "print(\"F1 Score:\", f1)\n",
        "print(\"Accuracy:\", accuracy*100)\n"
      ],
      "metadata": {
        "colab": {
          "base_uri": "https://localhost:8080/",
          "height": 599
        },
        "id": "IC7I_NTBF2qp",
        "outputId": "0e58bd5b-8da0-422a-c185-7735de073320"
      },
      "id": "IC7I_NTBF2qp",
      "execution_count": 64,
      "outputs": [
        {
          "output_type": "display_data",
          "data": {
            "text/plain": [
              "<Figure size 800x600 with 2 Axes>"
            ],
            "image/png": "[encoded data removed]"
          },
          "metadata": {}
        },
        {
          "output_type": "stream",
          "name": "stdout",
          "text": [
            "F1 Score: 0.5692098092643052\n",
            "Accuracy: 80.38218141208586\n"
          ]
        }
      ]
    },
    {
      "cell_type": "markdown",
      "source": [
        "# RANDOM FOREST"
      ],
      "metadata": {
        "id": "mI55C5jrwSH3"
      },
      "id": "mI55C5jrwSH3"
    },
    {
      "cell_type": "code",
      "source": [
        "# Random Forest\n",
        "\n",
        "# Encode the 'target' column using LabelEncoder\n",
        "R_enc = LabelEncoder()\n",
        "R_final = result.apply(LabelEncoder().fit_transform)\n",
        "\n",
        "# Split the dataset into training and testing sets\n",
        "X, y = R_final.iloc[:32560, :-1], R_final.iloc[:32560, -1]\n",
        "a, b = R_final.iloc[32561:48841, :-1], R_final.iloc[32561:48841, -1]\n",
        "X_train, X_test, y_train, y_test = X, a, y, b\n",
        "\n",
        "# Create a Random Forest classifier\n",
        "Random_forest_classification = RandomForestClassifier(n_estimators=100, random_state=42)\n",
        "\n",
        "# Train the classifier on the training data\n",
        "Random_forest_classification.fit(X_train, y_train)\n",
        "\n",
        "# Make predictions on the testing data\n",
        "y_pred = Random_forest_classification.predict(X_test)\n",
        "\n",
        "# Evaluate the model's accuracy\n",
        "accuracy = metrics.accuracy_score(y_test, y_pred)\n",
        "print(\"Accuracy:\", accuracy*100)"
      ],
      "metadata": {
        "id": "uBy3LsbQofIT",
        "colab": {
          "base_uri": "https://localhost:8080/"
        },
        "outputId": "cff79320-8679-49ee-aac7-08726da441b1"
      },
      "id": "uBy3LsbQofIT",
      "execution_count": 62,
      "outputs": [
        {
          "output_type": "stream",
          "name": "stdout",
          "text": [
            "Accuracy: 82.54299754299754\n"
          ]
        }
      ]
    },
    {
      "cell_type": "code",
      "source": [
        "import matplotlib.pyplot as plt\n",
        "import seaborn as sns\n",
        "from sklearn.metrics import confusion_matrix\n",
        "\n",
        "# ...\n",
        "\n",
        "# Make predictions on the testing data\n",
        "y_pred = Random_forest_classification.predict(X_test)\n",
        "\n",
        "# Compute the confusion matrix\n",
        "cm = confusion_matrix(y_test, y_pred)\n",
        "\n",
        "# Plot the confusion matrix\n",
        "plt.figure(figsize=(8, 6))\n",
        "sns.heatmap(cm, annot=True, fmt=\"d\", cmap=\"Blues\")\n",
        "plt.title(\"Confusion Matrix for Random Forest\")\n",
        "plt.xlabel(\"Predicted Label\")\n",
        "plt.ylabel(\"True Label\")\n",
        "plt.show()\n"
      ],
      "metadata": {
        "colab": {
          "base_uri": "https://localhost:8080/",
          "height": 564
        },
        "id": "nhf5nDhIGPvo",
        "outputId": "34781c0e-30b2-46e4-be94-e54ca6e2fdd0"
      },
      "id": "nhf5nDhIGPvo",
      "execution_count": 65,
      "outputs": [
        {
          "output_type": "display_data",
          "data": {
            "text/plain": [
              "<Figure size 800x600 with 2 Axes>"
            ],
            "image/png": "[encoded data removed]"
          },
          "metadata": {}
        }
      ]
    },
    {
      "cell_type": "markdown",
      "source": [
        "# Custom Reduced Error Pruning without library (Not within device's limitation)"
      ],
      "metadata": {
        "id": "r6q8MclIGiv0"
      },
      "id": "r6q8MclIGiv0"
    },
    {
      "cell_type": "code",
      "source": [
        "\n",
        "# Initial error rates\n",
        "y_train_pred = clf1.predict(X_train1)\n",
        "training_error = 1 - metrics.accuracy_score(y_train1, y_train_pred)\n",
        "y_val_pred = clf1.predict(X_val)\n",
        "validation_error = 1 - metrics.accuracy_score(y_val, y_val_pred)\n",
        "y_test_pred = clf1.predict(X_test1)\n",
        "testing_error = 1 - metrics.accuracy_score(y_test1, y_test_pred)\n",
        "\n",
        "# Append initial values to the lists\n",
        "num_nodes_list = [clf1.tree_.node_count]\n",
        "training_error_list = [training_error]\n",
        "validation_error_list = [validation_error]\n",
        "testing_error_list = [testing_error]\n",
        "\n",
        "# Perform Reduced Error Pruning\n",
        "while True:\n",
        "    best_clf = None\n",
        "    best_validation_error = validation_error\n",
        "\n",
        "    # Iterate over each node for pruning\n",
        "    for node in range(clf1.tree_.node_count):\n",
        "        if clf1.tree_.children_left[node] != clf1.tree_.children_right[node]:\n",
        "            # Copy the original decision tree classifier\n",
        "            pruned_clf = copy.deepcopy(clf1)\n",
        "\n",
        "            # Prune the subtree at the current node\n",
        "            pruned_clf.tree_.children_left[node] = pruned_clf.tree_.children_right[node]\n",
        "\n",
        "            # Evaluate the pruned decision tree on the validation data\n",
        "            y_val_pred = pruned_clf.predict(X_val)\n",
        "            pruned_validation_error = 1 - metrics.accuracy_score(y_val, y_val_pred)\n",
        "\n",
        "            # Check if pruning improves the validation error\n",
        "            if pruned_validation_error <= best_validation_error:\n",
        "                best_validation_error = pruned_validation_error\n",
        "                best_clf = pruned_clf\n",
        "\n",
        "    if best_clf is not None:\n",
        "        clf1 = best_clf\n",
        "\n",
        "        # Update error rates\n",
        "        y_train_pred = clf1.predict(X_train1)\n",
        "        training_error = 1 - metrics.accuracy_score(y_train1, y_train_pred)\n",
        "        y_val_pred = clf1.predict(X_val)\n",
        "        validation_error = 1 - metrics.accuracy_score(y_val, y_val_pred)\n",
        "        y_test_pred = clf1.predict(X_test1)\n",
        "        testing_error = 1 - metrics.accuracy_score(y_test1, y_test_pred)\n",
        "\n",
        "        # Append values to the lists\n",
        "        num_nodes_list.append(clf1.tree_.node_count)\n",
        "        training_error_list.append(training_error)\n",
        "        validation_error_list.append(validation_error)\n",
        "        testing_error_list.append(testing_error)\n",
        "    else:\n",
        "        break\n",
        "\n",
        "# Plotting the graph\n",
        "plt.plot(num_nodes_list, training_error_list, label='Training Error')\n",
        "plt.plot(num_nodes_list, validation_error_list, label='Validation Error')\n",
        "plt.plot(num_nodes_list, testing_error_list, label='Testing Error')\n",
        "plt.xlabel('Number of Nodes')\n",
        "plt.ylabel('Error Rate')\n",
        "plt.title('Number of Nodes vs Error')\n",
        "plt.legend()\n",
        "plt.show()"
      ],
      "metadata": {
        "id": "IN3zr9sbqTSm"
      },
      "id": "IN3zr9sbqTSm",
      "execution_count": null,
      "outputs": []
    },
    {
      "cell_type": "code",
      "source": [],
      "metadata": {
        "id": "PyQTipyMbjbz"
      },
      "id": "PyQTipyMbjbz",
      "execution_count": null,
      "outputs": []
    }
  ],
  "metadata": {
    "kernelspec": {
      "display_name": "Python 3",
      "name": "python3"
    },
    "language_info": {
      "codemirror_mode": {
        "name": "ipython",
        "version": 3
      },
      "file_extension": ".py",
      "mimetype": "text/x-python",
      "name": "python",
      "nbconvert_exporter": "python",
      "pygments_lexer": "ipython3",
      "version": "3.8.8"
    },
    "colab": {
      "provenance": [],
      "gpuType": "T4"
    }
  },
  "nbformat": 4,
  "nbformat_minor": 5
}